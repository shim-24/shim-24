{
 "cells": [
  {
   "cell_type": "markdown",
   "id": "959a8fba-145f-4747-a772-c999f5710863",
   "metadata": {},
   "source": [
    "# Data Science Tools and Ecosystem"
   ]
  },
  {
   "cell_type": "markdown",
   "id": "45134c08-0271-4c93-9952-f7bded437a04",
   "metadata": {},
   "source": [
    "# Introduction \n",
    "In this notebook, Data Science Tools and Ecosystem are summarized."
   ]
  },
  {
   "cell_type": "markdown",
   "id": "fd30f09b-027b-4b17-ac48-cc9206fdd52a",
   "metadata": {},
   "source": [
    "**Objectives:**\n",
    "- List popular languages for Data Science\n",
    "- Identify commonly used libraries in Data Science\n",
    "- Demonstrate basic arithmetic operations in Python\n",
    "- Convert units (e.g., minutes to hours)\n",
    "- Create and manipulate data structures (e.g., lists, sets, DataFrames)\n"
   ]
  },
  {
   "cell_type": "markdown",
   "id": "455f7304-4590-4cff-91ef-55ba5e591e84",
   "metadata": {
    "jupyter": {
     "source_hidden": true
    }
   },
   "source": [
    "Some of the popular languages that Data Scientists use are: 1. Python 2. R 3. SQL"
   ]
  },
  {
   "cell_type": "markdown",
   "id": "e395f37e-f554-4030-9abb-853d2f4d0fbc",
   "metadata": {},
   "source": [
    "Some of the commonly used libraries used by Data Scientists include: 1. Pandas 2. NumPy 3. Matplotlib"
   ]
  },
  {
   "cell_type": "markdown",
   "id": "9d0d7785-5f50-481e-a1ba-1f2a36369b0b",
   "metadata": {
    "jupyter": {
     "source_hidden": true
    }
   },
   "source": [
    "| Data Science Tools |\n",
    "|--------------------|\n",
    "| Jupyter Notebook   |\n",
    "| RStudio            |\n",
    "| Apache Zeppelin    |\n"
   ]
  },
  {
   "cell_type": "markdown",
   "id": "34ca5d89-52c6-4f58-b75b-389a29d8fd0f",
   "metadata": {
    "jupyter": {
     "source_hidden": true
    }
   },
   "source": [
    "### Below are a few examples of evaluating arithmetic expressions in Python."
   ]
  },
  {
   "cell_type": "code",
   "execution_count": 2,
   "id": "a8338c1c-fd79-491a-a47d-299fc79deb6f",
   "metadata": {},
   "outputs": [
    {
     "name": "stdout",
     "output_type": "stream",
     "text": [
      "17\n"
     ]
    }
   ],
   "source": [
    "# This is a simple arithmetic expression to multiply then add integers\n",
    "result = (3 * 4) + 5\n",
    "print(result)\n"
   ]
  },
  {
   "cell_type": "code",
   "execution_count": 3,
   "id": "4aa711db-5b6e-438d-a079-a29bbf918753",
   "metadata": {
    "collapsed": true,
    "jupyter": {
     "outputs_hidden": true,
     "source_hidden": true
    }
   },
   "outputs": [
    {
     "name": "stdout",
     "output_type": "stream",
     "text": [
      "3.3333333333333335\n"
     ]
    }
   ],
   "source": [
    "# This will convert 200 minutes to hours by dividing by 60\n",
    "minutes = 200\n",
    "hours = minutes / 60\n",
    "print(hours)\n"
   ]
  },
  {
   "cell_type": "markdown",
   "id": "c079b4cb-8aed-4a31-8eee-110fad19760b",
   "metadata": {},
   "source": [
    "## Author\n",
    "\n",
    "Shimelis Areda\n"
   ]
  }
 ],
 "metadata": {
  "kernelspec": {
   "display_name": "Python 3 (ipykernel)",
   "language": "python",
   "name": "python3"
  },
  "language_info": {
   "codemirror_mode": {
    "name": "ipython",
    "version": 3
   },
   "file_extension": ".py",
   "mimetype": "text/x-python",
   "name": "python",
   "nbconvert_exporter": "python",
   "pygments_lexer": "ipython3",
   "version": "3.13.0"
  }
 },
 "nbformat": 4,
 "nbformat_minor": 5
}
